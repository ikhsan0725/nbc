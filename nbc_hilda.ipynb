{
  "nbformat": 4,
  "nbformat_minor": 0,
  "metadata": {
    "colab": {
      "provenance": [],
      "authorship_tag": "ABX9TyPK3Mqw9HE+NIaZHa2fCh20",
      "include_colab_link": true
    },
    "kernelspec": {
      "name": "python3",
      "display_name": "Python 3"
    },
    "language_info": {
      "name": "python"
    }
  },
  "cells": [
    {
      "cell_type": "markdown",
      "metadata": {
        "id": "view-in-github",
        "colab_type": "text"
      },
      "source": [
        "<a href=\"https://colab.research.google.com/github/ikhsan0725/nbc/blob/main/nbc_hilda.ipynb\" target=\"_parent\"><img src=\"https://colab.research.google.com/assets/colab-badge.svg\" alt=\"Open In Colab\"/></a>"
      ]
    },
    {
      "cell_type": "code",
      "execution_count": 2,
      "metadata": {
        "id": "syen2rRv4CsL"
      },
      "outputs": [],
      "source": [
        "import numpy as np\n",
        "import matplotlib.pyplot as plt\n",
        "import pandas as pd"
      ]
    },
    {
      "cell_type": "markdown",
      "source": [
        "Menentukan data x dan y"
      ],
      "metadata": {
        "id": "LuIcZRFE45sn"
      }
    },
    {
      "cell_type": "code",
      "source": [
        "dataset = pd.read_csv(\"try.csv\")\n",
        "x = dataset.iloc[:, [1,2,3,]].values\n",
        "y = dataset.iloc[:, -1].values"
      ],
      "metadata": {
        "id": "jA94_CNZ4ZGa"
      },
      "execution_count": 3,
      "outputs": []
    },
    {
      "cell_type": "markdown",
      "source": [
        "lihat data x"
      ],
      "metadata": {
        "id": "Y4mK_Vq54-Ej"
      }
    },
    {
      "cell_type": "code",
      "source": [
        "print (x)"
      ],
      "metadata": {
        "colab": {
          "base_uri": "https://localhost:8080/"
        },
        "id": "p1Xvg1ru4rPP",
        "outputId": "27452147-90a9-4f63-80b6-be6f5b1c3f69"
      },
      "execution_count": 4,
      "outputs": [
        {
          "output_type": "stream",
          "name": "stdout",
          "text": [
            "[[2 2 4]\n",
            " [1 4 2]\n",
            " [3 3 3]\n",
            " [3 4 3]\n",
            " [4 3 5]\n",
            " [4 4 5]\n",
            " [2 4 2]]\n"
          ]
        }
      ]
    },
    {
      "cell_type": "markdown",
      "source": [
        "lihat data y"
      ],
      "metadata": {
        "id": "aQvqnv0Q4_1g"
      }
    },
    {
      "cell_type": "code",
      "source": [
        "print (y)"
      ],
      "metadata": {
        "colab": {
          "base_uri": "https://localhost:8080/"
        },
        "id": "c2HIciid4vQ_",
        "outputId": "3e09d0ca-5d3c-4bac-b1cb-6fc38b81f6de"
      },
      "execution_count": 5,
      "outputs": [
        {
          "output_type": "stream",
          "name": "stdout",
          "text": [
            "[0 0 1 1 1 1 0]\n"
          ]
        }
      ]
    },
    {
      "cell_type": "markdown",
      "source": [
        "Pisahkan data training dengan testing"
      ],
      "metadata": {
        "id": "Eq6nupj-5VcW"
      }
    },
    {
      "cell_type": "code",
      "source": [
        "from sklearn.model_selection import train_test_split\n",
        "x_train, x_test, y_train, y_test = train_test_split(x, y, test_size=0.28571428571, random_state=0)"
      ],
      "metadata": {
        "id": "fNdl8bga562O"
      },
      "execution_count": 6,
      "outputs": []
    },
    {
      "cell_type": "markdown",
      "source": [
        "Munculkan data x, y train dan test"
      ],
      "metadata": {
        "id": "y52JR69c6lIB"
      }
    },
    {
      "cell_type": "code",
      "source": [
        "print (x_train)"
      ],
      "metadata": {
        "colab": {
          "base_uri": "https://localhost:8080/"
        },
        "id": "VavSrcoS6qku",
        "outputId": "86393c34-ae30-4be0-b327-329b75bdd4f0"
      },
      "execution_count": 7,
      "outputs": [
        {
          "output_type": "stream",
          "name": "stdout",
          "text": [
            "[[1 4 2]\n",
            " [3 4 3]\n",
            " [2 2 4]\n",
            " [4 4 5]\n",
            " [4 3 5]]\n"
          ]
        }
      ]
    },
    {
      "cell_type": "code",
      "source": [
        "print(x_test)"
      ],
      "metadata": {
        "colab": {
          "base_uri": "https://localhost:8080/"
        },
        "id": "gWI8okMR6tck",
        "outputId": "461d0bc0-3f6a-40c0-fc51-d83eacac5e3c"
      },
      "execution_count": 8,
      "outputs": [
        {
          "output_type": "stream",
          "name": "stdout",
          "text": [
            "[[2 4 2]\n",
            " [3 3 3]]\n"
          ]
        }
      ]
    },
    {
      "cell_type": "code",
      "source": [
        "print (y_train)"
      ],
      "metadata": {
        "colab": {
          "base_uri": "https://localhost:8080/"
        },
        "id": "zSIMm_qj67cW",
        "outputId": "6e30c658-cbb1-47ac-9b94-a22cf226037b"
      },
      "execution_count": 9,
      "outputs": [
        {
          "output_type": "stream",
          "name": "stdout",
          "text": [
            "[0 1 0 1 1]\n"
          ]
        }
      ]
    },
    {
      "cell_type": "code",
      "source": [
        "print (y_test)"
      ],
      "metadata": {
        "colab": {
          "base_uri": "https://localhost:8080/"
        },
        "id": "UBJqyNvr6_i1",
        "outputId": "aaf42ee4-ac65-4661-9f91-c4e5faf0aff1"
      },
      "execution_count": 10,
      "outputs": [
        {
          "output_type": "stream",
          "name": "stdout",
          "text": [
            "[0 1]\n"
          ]
        }
      ]
    },
    {
      "cell_type": "markdown",
      "source": [
        "Membuat skala standar x"
      ],
      "metadata": {
        "id": "LWJ7sZLa7Db1"
      }
    },
    {
      "cell_type": "code",
      "source": [
        "from sklearn.preprocessing import StandardScaler\n",
        "sc = StandardScaler()\n",
        "x_train = sc.fit_transform(x_train)\n",
        "x_test = sc.transform(x_test)"
      ],
      "metadata": {
        "id": "Yqtm24kY7SBl"
      },
      "execution_count": 11,
      "outputs": []
    },
    {
      "cell_type": "markdown",
      "source": [
        "Cek hasil"
      ],
      "metadata": {
        "id": "exudfKDO8dEJ"
      }
    },
    {
      "cell_type": "code",
      "source": [
        "print (x_train)"
      ],
      "metadata": {
        "colab": {
          "base_uri": "https://localhost:8080/"
        },
        "id": "6KSxAhDT8eY2",
        "outputId": "e45df614-8653-4a77-b506-624de6dc4c6c"
      },
      "execution_count": 12,
      "outputs": [
        {
          "output_type": "stream",
          "name": "stdout",
          "text": [
            "[[-1.54348727  0.75       -1.54348727]\n",
            " [ 0.17149859  0.75       -0.68599434]\n",
            " [-0.68599434 -1.75        0.17149859]\n",
            " [ 1.02899151  0.75        1.02899151]\n",
            " [ 1.02899151 -0.5         1.02899151]]\n"
          ]
        }
      ]
    },
    {
      "cell_type": "code",
      "source": [
        "print (x_test)"
      ],
      "metadata": {
        "colab": {
          "base_uri": "https://localhost:8080/"
        },
        "id": "1fcEtRLl8mo7",
        "outputId": "6ee2953a-d914-4ec3-f13e-aeaafb398275"
      },
      "execution_count": 13,
      "outputs": [
        {
          "output_type": "stream",
          "name": "stdout",
          "text": [
            "[[-0.68599434  0.75       -1.54348727]\n",
            " [ 0.17149859 -0.5        -0.68599434]]\n"
          ]
        }
      ]
    },
    {
      "cell_type": "markdown",
      "source": [
        "Panggil NBC"
      ],
      "metadata": {
        "id": "2n1-QYe29DdW"
      }
    },
    {
      "cell_type": "code",
      "source": [
        "from sklearn.naive_bayes import GaussianNB\n",
        "classifier = GaussianNB()\n",
        "classifier.fit(x_train, y_train)"
      ],
      "metadata": {
        "colab": {
          "base_uri": "https://localhost:8080/"
        },
        "id": "spMYVRLg9E6c",
        "outputId": "2418275d-eeb9-44e0-8fe1-b59ae5349329"
      },
      "execution_count": 14,
      "outputs": [
        {
          "output_type": "execute_result",
          "data": {
            "text/plain": [
              "GaussianNB()"
            ]
          },
          "metadata": {},
          "execution_count": 14
        }
      ]
    },
    {
      "cell_type": "markdown",
      "source": [
        "Hitung prediksi"
      ],
      "metadata": {
        "id": "2S51RE8e9obv"
      }
    },
    {
      "cell_type": "code",
      "source": [
        "y_pred = classifier.predict(x_test)"
      ],
      "metadata": {
        "id": "7XrdgPQw9qTU"
      },
      "execution_count": 15,
      "outputs": []
    },
    {
      "cell_type": "markdown",
      "source": [
        "Hitung evaluasi keakuratan prediksi"
      ],
      "metadata": {
        "id": "QsMqzxJa-Bf8"
      }
    },
    {
      "cell_type": "code",
      "source": [
        "from sklearn.metrics import confusion_matrix, accuracy_score\n",
        "cm = confusion_matrix(y_test, y_pred)\n",
        "am = accuracy_score(y_test, y_pred)"
      ],
      "metadata": {
        "id": "L736P7Bu-Fl3"
      },
      "execution_count": 16,
      "outputs": []
    },
    {
      "cell_type": "markdown",
      "source": [
        "Lihat hasil"
      ],
      "metadata": {
        "id": "uWQfEFEq-iII"
      }
    },
    {
      "cell_type": "code",
      "source": [
        "print(cm)"
      ],
      "metadata": {
        "colab": {
          "base_uri": "https://localhost:8080/"
        },
        "id": "Upqy25nl-jKk",
        "outputId": "bdeaacfd-b616-4ac5-f29e-8a26670bebb7"
      },
      "execution_count": 17,
      "outputs": [
        {
          "output_type": "stream",
          "name": "stdout",
          "text": [
            "[[1 0]\n",
            " [0 1]]\n"
          ]
        }
      ]
    },
    {
      "cell_type": "code",
      "source": [
        "print(am)"
      ],
      "metadata": {
        "colab": {
          "base_uri": "https://localhost:8080/"
        },
        "id": "cF7d7oBtSMQ5",
        "outputId": "d85e5775-0a45-4da7-af7c-9f09598dc049"
      },
      "execution_count": 18,
      "outputs": [
        {
          "output_type": "stream",
          "name": "stdout",
          "text": [
            "1.0\n"
          ]
        }
      ]
    },
    {
      "cell_type": "markdown",
      "source": [
        "Diagram penyebaran klasifikasi NBC"
      ],
      "metadata": {
        "id": "q72fSMC5-zls"
      }
    },
    {
      "cell_type": "code",
      "source": [
        "\n",
        "    if not title:\n",
        "        if normalize:\n",
        "            title='Normalized Confusion Matrix'\n",
        "        else:\n",
        "            title='Confusion Matrix, without normalization'\n",
        "            \n",
        "cm = confusion_matrix(y_true, y_pred)\n",
        "\n",
        "classes = classes[unique_labels(y_true, y_pred)]\n",
        "if normalize:\n",
        "    cm = cm.astype('float') / cm.sum(axis=1)[:, np,newaxis]\n",
        "    print('Normalized Confusion Matrix')\n",
        "else:\n",
        "    print('Confusion Matrix, without normalization')\n",
        "print(cm)\n",
        "\n",
        "fig, ax = plt.subplots()\n",
        "im = ax.imshow(cm, interpolation='nearest', cmap=cmap)\n",
        "ax.figure.colorbar(im, ax=ax)\n",
        "\n",
        "ax.set(xticks=np.arage(cm.shape[1]),\n",
        "       yticks=np.arange(cm.shape[0]),\n",
        "       \n",
        "       xticklabels=classes, yticklabels=classes,\n",
        "       title=title,\n",
        "       ylabel='True label',\n",
        "       xlabel='Predicted label')\n",
        "       \n",
        "plt.setp(ax.get_xticklabels(), rotation=45, ha=\"right\",\n",
        "       rotation_mode=\"anchor\")\n",
        "\n",
        "fmt = '.2f' if normalize else 'd'\n",
        "thresh = cm.max() / 2.\n",
        "for i in range(cm.shape[0]):\n",
        "    for j in range(cm.shape[1]):\n",
        "        ax.text(j, i, format(cm[i, j], fmt),\n",
        "                ha=\"center\", va=\"center\",\n",
        "                color=\"white\" if cm[i, j] > thresh else \"black\")\n",
        "fig.tight_layout()\n",
        "return ax"
      ],
      "metadata": {
        "id": "F1QnlLwFjYSj"
      },
      "execution_count": null,
      "outputs": []
    },
    {
      "cell_type": "code",
      "source": [
        "class_names = y\n",
        "np.set_printoptions(precision=2)\n",
        "\n",
        "plot_confusion_matrix(y_test, y_pred, classes=class_names,\n",
        "                      title='Confusin matrix, withut normalization')\n",
        "\n",
        "plot_confusion_matrix(y_test, y_pred, classes=class_names, normalize=True,\n",
        "                      title='Normalized confusion matrix')\n",
        "plt.show"
      ],
      "metadata": {
        "id": "PIeo8S8Yjc15"
      },
      "execution_count": null,
      "outputs": []
    }
  ]
}