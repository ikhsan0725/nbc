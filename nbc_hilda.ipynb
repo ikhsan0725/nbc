{
  "nbformat": 4,
  "nbformat_minor": 0,
  "metadata": {
    "colab": {
      "provenance": [],
      "authorship_tag": "ABX9TyMFaF0+wlD4Lt8x96wZmWt7",
      "include_colab_link": true
    },
    "kernelspec": {
      "name": "python3",
      "display_name": "Python 3"
    },
    "language_info": {
      "name": "python"
    }
  },
  "cells": [
    {
      "cell_type": "markdown",
      "metadata": {
        "id": "view-in-github",
        "colab_type": "text"
      },
      "source": [
        "<a href=\"https://colab.research.google.com/github/ikhsan0725/nbc/blob/main/nbc_hilda.ipynb\" target=\"_parent\"><img src=\"https://colab.research.google.com/assets/colab-badge.svg\" alt=\"Open In Colab\"/></a>"
      ]
    },
    {
      "cell_type": "code",
      "execution_count": 1,
      "metadata": {
        "id": "syen2rRv4CsL"
      },
      "outputs": [],
      "source": [
        "import numpy as np\n",
        "import matplotlib.pyplot as plt\n",
        "import pandas as pd"
      ]
    },
    {
      "cell_type": "markdown",
      "source": [
        "Menentukan data x dan y"
      ],
      "metadata": {
        "id": "LuIcZRFE45sn"
      }
    },
    {
      "cell_type": "code",
      "source": [
        "dataset = pd.read_csv(\"try.csv\")\n",
        "x = dataset.iloc[:, [1,2,3,]].values\n",
        "y = dataset.iloc[:, -1].values"
      ],
      "metadata": {
        "id": "jA94_CNZ4ZGa"
      },
      "execution_count": 7,
      "outputs": []
    },
    {
      "cell_type": "markdown",
      "source": [
        "lihat data x"
      ],
      "metadata": {
        "id": "Y4mK_Vq54-Ej"
      }
    },
    {
      "cell_type": "code",
      "source": [
        "print (x)"
      ],
      "metadata": {
        "colab": {
          "base_uri": "https://localhost:8080/"
        },
        "id": "p1Xvg1ru4rPP",
        "outputId": "09a78a18-a8fe-417c-db88-f52827b52fd6"
      },
      "execution_count": 8,
      "outputs": [
        {
          "output_type": "stream",
          "name": "stdout",
          "text": [
            "[[2 2 4]\n",
            " [1 4 2]\n",
            " [3 3 3]\n",
            " [3 4 3]\n",
            " [4 3 5]\n",
            " [4 4 5]\n",
            " [2 4 2]]\n"
          ]
        }
      ]
    },
    {
      "cell_type": "markdown",
      "source": [
        "lihat data y"
      ],
      "metadata": {
        "id": "aQvqnv0Q4_1g"
      }
    },
    {
      "cell_type": "code",
      "source": [
        "print (y)"
      ],
      "metadata": {
        "colab": {
          "base_uri": "https://localhost:8080/"
        },
        "id": "c2HIciid4vQ_",
        "outputId": "1f5b505f-efa3-4cf5-f819-f0df2528c4af"
      },
      "execution_count": 9,
      "outputs": [
        {
          "output_type": "stream",
          "name": "stdout",
          "text": [
            "[0 0 1 1 1 1 0]\n"
          ]
        }
      ]
    },
    {
      "cell_type": "markdown",
      "source": [
        "Pisahkan data training dengan testing"
      ],
      "metadata": {
        "id": "Eq6nupj-5VcW"
      }
    },
    {
      "cell_type": "code",
      "source": [
        "from sklearn.model_selection import train_test_split\n",
        "x_train, x_test, y_train, y_test = train_test_split(x, y, test_size=0.28571428571, random_state=0)"
      ],
      "metadata": {
        "id": "fNdl8bga562O"
      },
      "execution_count": 10,
      "outputs": []
    },
    {
      "cell_type": "markdown",
      "source": [
        "Munculkan data x, y train dan test"
      ],
      "metadata": {
        "id": "y52JR69c6lIB"
      }
    },
    {
      "cell_type": "code",
      "source": [
        "print (x_train)"
      ],
      "metadata": {
        "colab": {
          "base_uri": "https://localhost:8080/"
        },
        "id": "VavSrcoS6qku",
        "outputId": "eac28471-3624-47f1-8efb-16ac86c4909b"
      },
      "execution_count": 11,
      "outputs": [
        {
          "output_type": "stream",
          "name": "stdout",
          "text": [
            "[[1 4 2]\n",
            " [3 4 3]\n",
            " [2 2 4]\n",
            " [4 4 5]\n",
            " [4 3 5]]\n"
          ]
        }
      ]
    },
    {
      "cell_type": "code",
      "source": [
        "print(x_test)"
      ],
      "metadata": {
        "colab": {
          "base_uri": "https://localhost:8080/"
        },
        "id": "gWI8okMR6tck",
        "outputId": "3b4aa737-27fc-494c-bd30-4bb9d4122a29"
      },
      "execution_count": 12,
      "outputs": [
        {
          "output_type": "stream",
          "name": "stdout",
          "text": [
            "[[2 4 2]\n",
            " [3 3 3]]\n"
          ]
        }
      ]
    },
    {
      "cell_type": "code",
      "source": [
        "print (y_train)"
      ],
      "metadata": {
        "colab": {
          "base_uri": "https://localhost:8080/"
        },
        "id": "zSIMm_qj67cW",
        "outputId": "5a210c17-3eca-4c9c-8852-1a9e99b4d137"
      },
      "execution_count": 13,
      "outputs": [
        {
          "output_type": "stream",
          "name": "stdout",
          "text": [
            "[0 1 0 1 1]\n"
          ]
        }
      ]
    },
    {
      "cell_type": "code",
      "source": [
        "print (y_test)"
      ],
      "metadata": {
        "colab": {
          "base_uri": "https://localhost:8080/"
        },
        "id": "UBJqyNvr6_i1",
        "outputId": "2f67bf59-869d-4441-99a1-5083debbb632"
      },
      "execution_count": 14,
      "outputs": [
        {
          "output_type": "stream",
          "name": "stdout",
          "text": [
            "[0 1]\n"
          ]
        }
      ]
    },
    {
      "cell_type": "markdown",
      "source": [
        "Membuat skala standar x"
      ],
      "metadata": {
        "id": "LWJ7sZLa7Db1"
      }
    },
    {
      "cell_type": "code",
      "source": [
        "from sklearn.preprocessing import StandardScaler\n",
        "sc = StandardScaler()\n",
        "x_train = sc.fit_transform(x_train)\n",
        "x_test = sc.transform(x_test)"
      ],
      "metadata": {
        "id": "Yqtm24kY7SBl"
      },
      "execution_count": 15,
      "outputs": []
    },
    {
      "cell_type": "markdown",
      "source": [
        "Cek hasil"
      ],
      "metadata": {
        "id": "exudfKDO8dEJ"
      }
    },
    {
      "cell_type": "code",
      "source": [
        "print (x_train)"
      ],
      "metadata": {
        "colab": {
          "base_uri": "https://localhost:8080/"
        },
        "id": "6KSxAhDT8eY2",
        "outputId": "0971d813-d879-41ca-c7fd-001c3aced32e"
      },
      "execution_count": 16,
      "outputs": [
        {
          "output_type": "stream",
          "name": "stdout",
          "text": [
            "[[-1.54348727  0.75       -1.54348727]\n",
            " [ 0.17149859  0.75       -0.68599434]\n",
            " [-0.68599434 -1.75        0.17149859]\n",
            " [ 1.02899151  0.75        1.02899151]\n",
            " [ 1.02899151 -0.5         1.02899151]]\n"
          ]
        }
      ]
    },
    {
      "cell_type": "code",
      "source": [
        "print (x_test)"
      ],
      "metadata": {
        "colab": {
          "base_uri": "https://localhost:8080/"
        },
        "id": "1fcEtRLl8mo7",
        "outputId": "630ac1d8-9999-4ad0-9d86-407647b48cef"
      },
      "execution_count": 17,
      "outputs": [
        {
          "output_type": "stream",
          "name": "stdout",
          "text": [
            "[[-0.68599434  0.75       -1.54348727]\n",
            " [ 0.17149859 -0.5        -0.68599434]]\n"
          ]
        }
      ]
    },
    {
      "cell_type": "markdown",
      "source": [
        "Panggil NBC"
      ],
      "metadata": {
        "id": "2n1-QYe29DdW"
      }
    },
    {
      "cell_type": "code",
      "source": [
        "from sklearn.naive_bayes import GaussianNB\n",
        "classifier = GaussianNB()\n",
        "classifier.fit(x_train, y_train)"
      ],
      "metadata": {
        "colab": {
          "base_uri": "https://localhost:8080/"
        },
        "id": "spMYVRLg9E6c",
        "outputId": "4c2fd611-31cb-4e2f-a006-234fc195969c"
      },
      "execution_count": 18,
      "outputs": [
        {
          "output_type": "execute_result",
          "data": {
            "text/plain": [
              "GaussianNB()"
            ]
          },
          "metadata": {},
          "execution_count": 18
        }
      ]
    },
    {
      "cell_type": "markdown",
      "source": [
        "Hitung prediksi"
      ],
      "metadata": {
        "id": "2S51RE8e9obv"
      }
    },
    {
      "cell_type": "code",
      "source": [
        "y_pred = classifier.predict(x_test)"
      ],
      "metadata": {
        "id": "7XrdgPQw9qTU"
      },
      "execution_count": 19,
      "outputs": []
    },
    {
      "cell_type": "markdown",
      "source": [
        "Hitung evaluasi keakuratan prediksi"
      ],
      "metadata": {
        "id": "QsMqzxJa-Bf8"
      }
    },
    {
      "cell_type": "code",
      "source": [
        "from sklearn.metrics import confusion_matrix, accuracy_score\n",
        "cm = confusion_matrix(y_test, y_pred)\n",
        "am = accuracy_score(y_test, y_pred)"
      ],
      "metadata": {
        "id": "L736P7Bu-Fl3"
      },
      "execution_count": 26,
      "outputs": []
    },
    {
      "cell_type": "markdown",
      "source": [
        "Lihat hasil"
      ],
      "metadata": {
        "id": "uWQfEFEq-iII"
      }
    },
    {
      "cell_type": "code",
      "source": [
        "print(cm)"
      ],
      "metadata": {
        "colab": {
          "base_uri": "https://localhost:8080/"
        },
        "id": "Upqy25nl-jKk",
        "outputId": "29522767-6f99-4a32-8e1e-ccf04747db95"
      },
      "execution_count": 21,
      "outputs": [
        {
          "output_type": "stream",
          "name": "stdout",
          "text": [
            "[[1 0]\n",
            " [0 1]]\n"
          ]
        }
      ]
    },
    {
      "cell_type": "code",
      "source": [
        "print(am)"
      ],
      "metadata": {
        "colab": {
          "base_uri": "https://localhost:8080/"
        },
        "id": "cF7d7oBtSMQ5",
        "outputId": "6ff044c0-9285-48c3-b43f-fbd1c0216c05"
      },
      "execution_count": 27,
      "outputs": [
        {
          "output_type": "stream",
          "name": "stdout",
          "text": [
            "1.0\n"
          ]
        }
      ]
    },
    {
      "cell_type": "markdown",
      "source": [
        "Diagram penyebaran klasifikasi NBC"
      ],
      "metadata": {
        "id": "q72fSMC5-zls"
      }
    },
    {
      "cell_type": "code",
      "source": [],
      "metadata": {
        "id": "lsIacEEC-2uk"
      },
      "execution_count": null,
      "outputs": []
    }
  ]
}